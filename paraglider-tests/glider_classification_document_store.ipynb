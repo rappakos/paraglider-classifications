{
 "cells": [
  {
   "cell_type": "code",
   "execution_count": 12,
   "id": "260981ba",
   "metadata": {},
   "outputs": [
    {
     "name": "stdout",
     "output_type": "stream",
     "text": [
      "<class 'langchain.schema.Document'>\n"
     ]
    }
   ],
   "source": [
    "from os import walk\n",
    "from langchain.document_loaders import PyPDFLoader\n",
    "\n",
    "download_folder = \"data/pdf\"\n",
    "\n",
    "files = next(walk(download_folder), (None, None, []))[2] # [] if no file\n",
    "\n",
    "docs=[]\n",
    "for pdffile in files[:5]:\n",
    "    loader = PyPDFLoader(f\"{download_folder}/{pdffile}\")\n",
    "    pages = loader.load()\n",
    "    #print(pages)\n",
    "    docs.extend(pages)\n",
    "    \n",
    "print(type(docs[0]))"
   ]
  },
  {
   "cell_type": "code",
   "execution_count": 13,
   "id": "bd05f8fd",
   "metadata": {},
   "outputs": [],
   "source": [
    "from langchain.embeddings import HuggingFaceEmbeddings # does not seem to be good\n",
    "\n",
    "# https://www.sbert.net/docs/pretrained_models.html\n",
    "# https://huggingface.co/spaces/mteb/leaderboard\n",
    "\n",
    "model_name = \"sentence-transformers/all-mpnet-base-v2\"\n",
    "model_kwargs = {'device': 'cpu'}\n",
    "hf = HuggingFaceEmbeddings(model_name=model_name, model_kwargs=model_kwargs) \n",
    "\n",
    "#hf.embed_query(\"what is in the documents\")"
   ]
  },
  {
   "cell_type": "code",
   "execution_count": 11,
   "id": "89b9032d",
   "metadata": {},
   "outputs": [],
   "source": [
    "from InstructorEmbedding import INSTRUCTOR\n",
    "#model = INSTRUCTOR('hkunlp/instructor-xl')\n",
    "sentence = \"3D ActionSLAM: wearable person tracking in multi-floor environments\"\n",
    "instruction = \"Represent the Science title:\"\n",
    "#embeddings = model.encode([[instruction,sentence]])\n",
    "# issue:  DefaultCPUAllocator: not enough memory: you tried to allocate 67108864 bytes.\n",
    "#print(len(embeddings))"
   ]
  },
  {
   "cell_type": "code",
   "execution_count": 14,
   "id": "8e34918c",
   "metadata": {},
   "outputs": [],
   "source": [
    "from langchain.vectorstores import FAISS\n",
    "\n",
    "db = FAISS.from_documents([d for d in docs], hf)"
   ]
  },
  {
   "cell_type": "code",
   "execution_count": 16,
   "id": "7072e28e",
   "metadata": {},
   "outputs": [
    {
     "data": {
      "text/plain": [
       "[Document(page_content=\"Test Report generated automatically by AIR TURQUOISE SA, valid without signature RE | rev 05 | 16.04.2018   //   ISO | 91.22  //  Page 5 of 5Collapse on the opposite side occurs No (or only a small number of\\ncollapsed cells with a spontaneous\\nreinflation)ANo (or only a small number of\\ncollapsed cells with a spontaneous\\nreinflation)A\\nTwist occurs No ANo A\\nCascade occurs No ANo A\\nFolding lines used No No \\nLarge asymmetric collapse with fully activated accelerator \\nChange of course until re-inflation / Maximum dive forward or\\nroll angleLess than 90° / Dive or roll angle\\n15° to 45°A90° to 180° / Dive or roll angle\\n15° to 45°B\\nRe-inflation behaviour Spontaneous re-inflation ASpontaneous re-inflation A\\nTotal change of course Less than 360° ALess than 360° A\\nCollapse on the opposite side occurs No (or only a small number of\\ncollapsed cells with a spontaneous\\nreinflation)ANo (or only a small number of\\ncollapsed cells with a spontaneous\\nreinflation)A\\nTwist occurs No ANo A\\nCascade occurs No ANo A\\nFolding lines used No No \\n15. Directional control with a maintained asymmetric\\ncollapseA \\nAble to keep course Yes AYes A\\n180° turn away from the collapsed side possible in 10 s Yes AYes A\\nAmount of control range between turn and stall or spin More than 50 % of the symmetric\\ncontrol travelAMore than 50 % of the symmetric\\ncontrol travelA\\n16. Trim speed spin tendency A \\nSpin occurs No ANo A\\n17. Low speed spin tendency A \\nSpin occurs No ANo A\\n18. Recovery from a developed spin A \\nSpin rotation angle after release Stops spinning in less than 90° AStops spinning in less than 90° A\\nCascade occurs No ANo A\\n19. B-line stall A \\nChange of course before release Changing course less than 45° AChanging course less than 45° A\\nBehaviour before release Remains stable with straight span ARemains stable with straight span A\\nRecovery Spontaneous in less than 3 s ASpontaneous in less than 3 s A\\nDive forward angle on exit Dive forward 0° to 30° ADive forward 0° to 30° A\\nCascade occurs No ANo A\\n20. Big ears A \\nEntry procedure Dedicated controls ADedicated controls A\\nBehaviour during big ears Stable flight AStable flight A\\nRecovery Spontaneous in less than 3 s ASpontaneous in less than 3 s A\\nDive forward angle on exit Dive forward 0° to 30° ADive forward 0° to 30° A\\n21. Big ears in accelerated flight A \\nEntry procedure Dedicated controls ADedicated controls A\\nBehaviour during big ears Stable flight AStable flight A\\nRecovery Spontaneous in less than 3 s ASpontaneous in less than 3 s A\\nDive forward angle on exit Dive forward 0° to 30° ADive forward 0° to 30° A\\nBehaviour immediately after releasing the accelerator while\\nmaintaining big earsStable flight AStable flight A\\n22. Alternative means of directional control A \\n180° turn achievable in 20 s Yes AYes A\\nStall or spin occurs No ANo A\\n23. Any other flight procedure and/or configuration\\ndescribed in the user's manualA \\nProcedure works as described Yes Anot available 0\\nProcedure suitable for novice pilots Yes Anot available 0\\nCascade occurs No Anot available 0\\n24. Comments of test pilot \\n \", metadata={'source': 'data/pdf/Advance_Pi_3_19_(extended_weight_range).pdf', 'page': 2}),\n",
       " Document(page_content=\"Test Report generated automatically by AIR TURQUOISE SA, valid without signature RE | rev 05 | 16.04.2018   //   ISO | 91.22  //  Page 5 of 5Collapse on the opposite side occurs No (or only a small number of\\ncollapsed cells with a spontaneous\\nreinflation)ANo (or only a small number of\\ncollapsed cells with a spontaneous\\nreinflation)A\\nTwist occurs No ANo A\\nCascade occurs No ANo A\\nFolding lines used No No \\nLarge asymmetric collapse with fully activated accelerator \\nChange of course until re-inflation / Maximum dive forward or\\nroll angleLess than 90° / Dive or roll angle\\n15° to 45°A90° to 180° / Dive or roll angle\\n15° to 45°B\\nRe-inflation behaviour Spontaneous re-inflation ASpontaneous re-inflation A\\nTotal change of course Less than 360° ALess than 360° A\\nCollapse on the opposite side occurs No (or only a small number of\\ncollapsed cells with a spontaneous\\nreinflation)ANo (or only a small number of\\ncollapsed cells with a spontaneous\\nreinflation)A\\nTwist occurs No ANo A\\nCascade occurs No ANo A\\nFolding lines used No No \\n15. Directional control with a maintained asymmetric\\ncollapseA \\nAble to keep course Yes AYes A\\n180° turn away from the collapsed side possible in 10 s Yes AYes A\\nAmount of control range between turn and stall or spin More than 50 % of the symmetric\\ncontrol travelAMore than 50 % of the symmetric\\ncontrol travelA\\n16. Trim speed spin tendency A \\nSpin occurs No ANo A\\n17. Low speed spin tendency A \\nSpin occurs No ANo A\\n18. Recovery from a developed spin A \\nSpin rotation angle after release Stops spinning in less than 90° AStops spinning in less than 90° A\\nCascade occurs No ANo A\\n19. B-line stall A \\nChange of course before release Changing course less than 45° AChanging course less than 45° A\\nBehaviour before release Remains stable with straight span ARemains stable with straight span A\\nRecovery Spontaneous in less than 3 s ASpontaneous in less than 3 s A\\nDive forward angle on exit Dive forward 0° to 30° ADive forward 0° to 30° A\\nCascade occurs No ANo A\\n20. Big ears A \\nEntry procedure Dedicated controls ADedicated controls A\\nBehaviour during big ears Stable flight AStable flight A\\nRecovery Spontaneous in less than 3 s ASpontaneous in less than 3 s A\\nDive forward angle on exit Dive forward 0° to 30° ADive forward 0° to 30° A\\n21. Big ears in accelerated flight A \\nEntry procedure Dedicated controls ADedicated controls A\\nBehaviour during big ears Stable flight AStable flight A\\nRecovery Spontaneous in less than 3 s ASpontaneous in less than 3 s A\\nDive forward angle on exit Dive forward 0° to 30° ADive forward 0° to 30° A\\nBehaviour immediately after releasing the accelerator while\\nmaintaining big earsStable flight AStable flight A\\n22. Alternative means of directional control A \\n180° turn achievable in 20 s Yes AYes A\\nStall or spin occurs No ANo A\\n23. Any other flight procedure and/or configuration\\ndescribed in the user's manual0 \\nProcedure works as described not available 0not available 0\\nProcedure suitable for novice pilots not available 0not available 0\\nCascade occurs not available 0not available 0\\n24. Comments of test pilot \\n \", metadata={'source': 'data/pdf/Advance_Pi_3_25_(extended_weight_range).pdf', 'page': 2}),\n",
       " Document(page_content='Test Report generated automatically by AIR TURQUOISE SA, valid without signature RE | rev 05 | 16.04.2018   //   ISO | 91.22  //  Page 4 of 5Cascade occurs No ANo A\\nFolding lines used No No \\nAt least 50% chord \\nEntry Rocking back less than 45° ARocking back less than 45° A\\nRecovery Spontaneous in less than 3 s ASpontaneous in less than 3 s A\\nDive forward angle on exit / Change of course Dive forward 0° to 30° / Keeping\\ncourseADive forward 0° to 30° / Keeping\\ncourseA\\nCascade occurs No ANo A\\nFolding lines used No No \\nWith accelerator \\nEntry Rocking back less than 45° ARocking back less than 45° A\\nRecovery Spontaneous in less than 3 s ASpontaneous in less than 3 s A\\nDive forward angle on exit / Change of course Dive forward 0° to 30° / Keeping\\ncourseADive forward 0° to 30° / Keeping\\ncourseA\\nCascade occurs No ANo A\\nFolding lines used No No \\n11. Exiting deep stall (parachutal stall) A \\nDeep stall achieved Yes AYes A\\nRecovery Spontaneous in less than 3 s ASpontaneous in less than 3 s A\\nDive forward angle on exit Dive forward 0° to 30° ADive forward 0° to 30° A\\nChange of course Changing course less than 45° AChanging course less than 45° A\\nCascade occurs No ANo A\\n12. High angle of attack recovery A \\nRecovery Spontaneous in less than 3 s ASpontaneous in less than 3 s A\\nCascade occurs No ANo A\\n13. Recovery from a developed full stall B \\nDive forward angle on exit Dive forward 0° to 30° ADive forward 30° to 60° B\\nCollapse No collapse ANo collapse A\\nCascade occurs (other than collapses) No ANo A\\nRocking back Less than 45° ALess than 45° A\\nLine tension Most lines tight AMost lines tight A\\n14. Asymmetric collapse B \\nSmall asymmetric collapse \\nChange of course until re-inflation / Maximum dive forward or\\nroll angleLess than 90° / Dive or roll angle\\n0° to 15°ALess than 90° / Dive or roll angle\\n0° to 15°A\\nRe-inflation behaviour Spontaneous re-inflation ASpontaneous re-inflation A\\nTotal change of course Less than 360° ALess than 360° A\\nCollapse on the opposite side occurs No (or only a small number of\\ncollapsed cells with a spontaneous\\nreinflation)ANo (or only a small number of\\ncollapsed cells with a spontaneous\\nreinflation)A\\nTwist occurs No ANo A\\nCascade occurs No ANo A\\nFolding lines used No No \\nLarge asymmetric collapse \\nChange of course until re-inflation / Maximum dive forward or\\nroll angleLess than 90° / Dive or roll angle\\n15° to 45°A90° to 180° / Dive or roll angle\\n15° to 45°B\\nRe-inflation behaviour Spontaneous re-inflation ASpontaneous re-inflation A\\nTotal change of course Less than 360° ALess than 360° A\\nCollapse on the opposite side occurs No (or only a small number of\\ncollapsed cells with a spontaneous\\nreinflation)ANo (or only a small number of\\ncollapsed cells with a spontaneous\\nreinflation)A\\nTwist occurs No ANo A\\nCascade occurs No ANo A\\nFolding lines used No No \\nSmall asymmetric collapse with fully activated accelerator \\nChange of course until re-inflation / Maximum dive forward or\\nroll angleLess than 90° / Dive or roll angle\\n15° to 45°ALess than 90° / Dive or roll angle\\n15° to 45°A\\nRe-inflation behaviour Spontaneous re-inflation ASpontaneous re-inflation A\\nTotal change of course Less than 360° ALess than 360° A', metadata={'source': 'data/pdf/Advance_Pi_3_19_(extended_weight_range).pdf', 'page': 1})]"
      ]
     },
     "execution_count": 16,
     "metadata": {},
     "output_type": "execute_result"
    }
   ],
   "source": [
    "query = \"triple seven knight assymmetric collapse\"\n",
    "docs = db.similarity_search(query,k=3)\n",
    "\n",
    "docs"
   ]
  },
  {
   "cell_type": "code",
   "execution_count": null,
   "id": "a611ab27",
   "metadata": {},
   "outputs": [],
   "source": []
  }
 ],
 "metadata": {
  "kernelspec": {
   "display_name": "Python 3 (ipykernel)",
   "language": "python",
   "name": "python3"
  },
  "language_info": {
   "codemirror_mode": {
    "name": "ipython",
    "version": 3
   },
   "file_extension": ".py",
   "mimetype": "text/x-python",
   "name": "python",
   "nbconvert_exporter": "python",
   "pygments_lexer": "ipython3",
   "version": "3.8.12"
  }
 },
 "nbformat": 4,
 "nbformat_minor": 5
}
