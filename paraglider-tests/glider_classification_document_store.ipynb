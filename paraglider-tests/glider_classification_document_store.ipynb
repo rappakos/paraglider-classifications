{
 "cells": [
  {
   "cell_type": "code",
   "execution_count": 6,
   "id": "2e0c1e6b",
   "metadata": {},
   "outputs": [],
   "source": [
    "import keyring\n",
    "import os\n",
    "\n",
    "service_name = 'Open AI API'\n",
    "\n",
    "#keyring.set_password(service_name, 'personal', # add you key)\n",
    "\n",
    "api_key = keyring.get_password(service_name, 'personal')\n",
    "\n",
    "os.environ['OPENAI_API_KEY']=api_key"
   ]
  },
  {
   "cell_type": "code",
   "execution_count": 5,
   "id": "260981ba",
   "metadata": {},
   "outputs": [
    {
     "name": "stderr",
     "output_type": "stream",
     "text": [
      "Could not import azure.core python package.\n",
      "C:\\Users\\Akos Rapp\\anaconda3\\lib\\site-packages\\numpy\\_distributor_init.py:30: UserWarning: loaded more than 1 DLL from .libs:\n",
      "C:\\Users\\Akos Rapp\\anaconda3\\lib\\site-packages\\numpy\\.libs\\libopenblas.EL2C6PLE4ZYW3ECEVIV3OXXGRN2NRFM2.gfortran-win_amd64.dll\n",
      "C:\\Users\\Akos Rapp\\anaconda3\\lib\\site-packages\\numpy\\.libs\\libopenblas.WCDJNK7YVMPZQ2ME2ZZHJJRJ3JIKNDB7.gfortran-win_amd64.dll\n",
      "  warnings.warn(\"loaded more than 1 DLL from .libs:\"\n",
      "incorrect startxref pointer(3)\n",
      "incorrect startxref pointer(3)\n",
      "incorrect startxref pointer(3)\n",
      "incorrect startxref pointer(3)\n",
      "incorrect startxref pointer(3)\n",
      "incorrect startxref pointer(3)\n",
      "incorrect startxref pointer(3)\n",
      "incorrect startxref pointer(3)\n",
      "incorrect startxref pointer(3)\n",
      "incorrect startxref pointer(3)\n",
      "incorrect startxref pointer(3)\n",
      "incorrect startxref pointer(3)\n",
      "incorrect startxref pointer(3)\n",
      "incorrect startxref pointer(3)\n",
      "incorrect startxref pointer(3)\n",
      "incorrect startxref pointer(3)\n",
      "incorrect startxref pointer(3)\n",
      "incorrect startxref pointer(3)\n",
      "incorrect startxref pointer(3)\n",
      "incorrect startxref pointer(3)\n",
      "incorrect startxref pointer(3)\n",
      "incorrect startxref pointer(3)\n",
      "incorrect startxref pointer(3)\n",
      "incorrect startxref pointer(3)\n",
      "incorrect startxref pointer(3)\n",
      "incorrect startxref pointer(3)\n",
      "incorrect startxref pointer(3)\n",
      "incorrect startxref pointer(3)\n",
      "incorrect startxref pointer(3)\n",
      "incorrect startxref pointer(3)\n",
      "incorrect startxref pointer(3)\n",
      "incorrect startxref pointer(3)\n",
      "incorrect startxref pointer(3)\n",
      "incorrect startxref pointer(3)\n",
      "incorrect startxref pointer(3)\n",
      "incorrect startxref pointer(3)\n",
      "incorrect startxref pointer(3)\n",
      "incorrect startxref pointer(3)\n",
      "incorrect startxref pointer(3)\n",
      "incorrect startxref pointer(3)\n",
      "incorrect startxref pointer(3)\n",
      "incorrect startxref pointer(3)\n",
      "incorrect startxref pointer(3)\n",
      "incorrect startxref pointer(3)\n",
      "incorrect startxref pointer(3)\n",
      "incorrect startxref pointer(3)\n",
      "incorrect startxref pointer(3)\n",
      "incorrect startxref pointer(3)\n",
      "incorrect startxref pointer(3)\n",
      "incorrect startxref pointer(3)\n",
      "incorrect startxref pointer(3)\n",
      "incorrect startxref pointer(3)\n",
      "incorrect startxref pointer(3)\n",
      "incorrect startxref pointer(3)\n",
      "incorrect startxref pointer(3)\n",
      "incorrect startxref pointer(3)\n",
      "incorrect startxref pointer(3)\n",
      "incorrect startxref pointer(3)\n",
      "incorrect startxref pointer(3)\n",
      "incorrect startxref pointer(3)\n",
      "incorrect startxref pointer(3)\n",
      "incorrect startxref pointer(3)\n",
      "incorrect startxref pointer(3)\n",
      "incorrect startxref pointer(3)\n",
      "incorrect startxref pointer(3)\n",
      "incorrect startxref pointer(3)\n",
      "incorrect startxref pointer(3)\n",
      "incorrect startxref pointer(3)\n",
      "incorrect startxref pointer(3)\n",
      "incorrect startxref pointer(3)\n",
      "incorrect startxref pointer(3)\n",
      "incorrect startxref pointer(3)\n",
      "incorrect startxref pointer(3)\n",
      "incorrect startxref pointer(3)\n",
      "incorrect startxref pointer(3)\n",
      "incorrect startxref pointer(3)\n",
      "incorrect startxref pointer(3)\n",
      "incorrect startxref pointer(3)\n",
      "incorrect startxref pointer(3)\n",
      "incorrect startxref pointer(3)\n",
      "incorrect startxref pointer(3)\n",
      "incorrect startxref pointer(3)\n",
      "incorrect startxref pointer(3)\n",
      "incorrect startxref pointer(3)\n",
      "incorrect startxref pointer(3)\n",
      "incorrect startxref pointer(3)\n",
      "incorrect startxref pointer(3)\n",
      "incorrect startxref pointer(3)\n",
      "incorrect startxref pointer(3)\n",
      "incorrect startxref pointer(3)\n",
      "incorrect startxref pointer(3)\n",
      "incorrect startxref pointer(3)\n",
      "incorrect startxref pointer(3)\n",
      "incorrect startxref pointer(3)\n",
      "incorrect startxref pointer(3)\n",
      "incorrect startxref pointer(3)\n",
      "incorrect startxref pointer(3)\n",
      "incorrect startxref pointer(3)\n",
      "incorrect startxref pointer(3)\n",
      "incorrect startxref pointer(3)\n",
      "incorrect startxref pointer(3)\n",
      "incorrect startxref pointer(3)\n",
      "incorrect startxref pointer(3)\n",
      "incorrect startxref pointer(3)\n",
      "incorrect startxref pointer(3)\n",
      "incorrect startxref pointer(3)\n",
      "incorrect startxref pointer(3)\n",
      "incorrect startxref pointer(3)\n",
      "incorrect startxref pointer(3)\n",
      "incorrect startxref pointer(3)\n",
      "incorrect startxref pointer(3)\n"
     ]
    }
   ],
   "source": [
    "from langchain.document_loaders import PyPDFDirectoryLoader\n",
    "\n",
    "download_folder = \"data/pdf\"\n",
    "\n",
    "loader = PyPDFDirectoryLoader(download_folder)\n",
    "docs = loader.load()"
   ]
  },
  {
   "cell_type": "code",
   "execution_count": 13,
   "id": "23957676",
   "metadata": {},
   "outputs": [
    {
     "name": "stderr",
     "output_type": "stream",
     "text": [
      "Using embedded DuckDB without persistence: data will be transient\n"
     ]
    }
   ],
   "source": [
    "from langchain.embeddings.openai import OpenAIEmbeddings\n",
    "from langchain.vectorstores import Chroma\n",
    "from langchain.llms import OpenAI\n",
    "from langchain.chains import RetrievalQA\n",
    "\n",
    "\n",
    "embeddings = OpenAIEmbeddings()\n",
    "docsearch = Chroma.from_documents([d for d in docs], embeddings)\n",
    "qa = RetrievalQA.from_chain_type(llm=OpenAI(), chain_type=\"stuff\", retriever=docsearch.as_retriever())\n"
   ]
  },
  {
   "cell_type": "code",
   "execution_count": 24,
   "id": "fd33b69e",
   "metadata": {},
   "outputs": [
    {
     "data": {
      "text/plain": [
       "' Philippe Dupont and Claude Thurnheer.'"
      ]
     },
     "execution_count": 24,
     "metadata": {},
     "output_type": "execute_result"
    }
   ],
   "source": [
    "query = \"Who tested the skywalk chili 5 xs?\"\n",
    "qa.run(query)"
   ]
  },
  {
   "cell_type": "code",
   "execution_count": 27,
   "id": "9a350162",
   "metadata": {},
   "outputs": [
    {
     "data": {
      "text/plain": [
       "' The glider model Base2 Lite S with serial number BG0837386A has a B classification in big ears, as does the glider model Base2 Lite ML with serial number BG0910117A.'"
      ]
     },
     "execution_count": 27,
     "metadata": {},
     "output_type": "execute_result"
    }
   ],
   "source": [
    "query = \"Give me 2 gliders with a B in big ears\"\n",
    "qa.run(query)"
   ]
  },
  {
   "cell_type": "code",
   "execution_count": 13,
   "id": "bd05f8fd",
   "metadata": {},
   "outputs": [],
   "source": [
    "from langchain.embeddings import HuggingFaceEmbeddings # does not seem to be good?\n",
    "\n",
    "# https://www.sbert.net/docs/pretrained_models.html\n",
    "# https://huggingface.co/spaces/mteb/leaderboard\n",
    "\n",
    "model_name = \"sentence-transformers/all-mpnet-base-v2\"\n",
    "model_kwargs = {'device': 'cpu'}\n",
    "hf = HuggingFaceEmbeddings(model_name=model_name, model_kwargs=model_kwargs) \n",
    "\n",
    "#hf.embed_query(\"what is in the documents\")"
   ]
  },
  {
   "cell_type": "code",
   "execution_count": 29,
   "id": "8e34918c",
   "metadata": {},
   "outputs": [],
   "source": [
    "from langchain.vectorstores import FAISS\n",
    "\n",
    "# this can take some time\n",
    "db = FAISS.from_documents([d for d in docs], hf)\n",
    "db.save_local(\"data/faiss_index\")"
   ]
  },
  {
   "cell_type": "code",
   "execution_count": 32,
   "id": "7072e28e",
   "metadata": {},
   "outputs": [
    {
     "data": {
      "text/plain": [
       "[Document(page_content='Flight test report: EN 926-2:2013 & NfL 2-565-20\\nManufacturer Skywalk GmbH & Co. KG Certification number PG_1817.2021\\nAddress Windeckstr. 4\\n83250 Marquartstein\\nGermanyFlight test 16.06.2021\\nGlider model Chili 5 XXS Classification B\\nSerial number CH10 004 Representative None\\nTrimmer no Place of test Villeneuve\\nFolding lines used no \\nTest pilot Light pilot under Air\\nTurquoise supervisionClaude Thurnheer\\nHarness Flugsau - XX-Lite Advance - Success 4 M\\nHarness to risers distance (cm) 40 44\\nDistance between risers (cm) 40 44\\nTotal weight in flight (kg) 55 85\\nTest Report generated automatically by AIR TURQUOISE SA, valid without signature Rev 06 | 19.02.2021   //   ISO | 91.22  //  Page 1 of 31. Inflation/Take-off A \\nRising behaviour Smooth, easy and constant rising ASmooth, easy and constant rising A\\nSpecial take off technique required No ANo A\\n2. Landing A \\nSpecial landing technique required No ANo A\\n3. Speed in straight flight B \\nTrim speed more than 30 km/h Yes AYes A\\nSpeed range using the controls larger than 10 km/h Yes AYes A\\nMinimum speed Less than 25 km/h A25 km/h to 30 km/h B\\n4. Control movement A \\nMax. weight in flight up to 80 kg \\nSymmetric control pressure / travel Increasing / greater than 55 cm Anot available 0\\nMax. weight in flight 80 kg to 100 kg \\nSymmetric control pressure / travel not available 0Increasing / greater than 60 cm A\\nMax. weight in flight greater than 100 kg \\nSymmetric control pressure / travel not available 0not available 0\\n5. Pitch stability exiting accelerated flight A \\nDive forward angle on exit Dive forward less than 30° ADive forward less than 30° A\\nCollapse occurs No ANo A\\n6. Pitch stability operating controls during accelerated\\nflightA \\nCollapse occurs No ANo A\\n7. Roll stability and damping A \\nOscillations Reducing AReducing A\\n8. Stability in gentle spirals A \\nTendency to return to straight flight Spontaneous exit ASpontaneous exit A\\n9. Behaviour exiting a fully developed spiral dive A \\nInitial response of glider (first 180°) Immediate reduction of rate of turn AImmediate reduction of rate of turn A\\nTendency to return to straight flight Spontaneous exit (g force\\ndecreasing, rate of turn decreasing)ASpontaneous exit (g force\\ndecreasing, rate of turn decreasing)A\\nTurn angle to recover normal flight Less than 720°, spontaneous\\nrecoveryALess than 720°, spontaneous\\nrecoveryA\\n10. Symmetric front collapse B \\nApproximately 30 % chord \\nEntry Rocking back less than 45° ARocking back less than 45° A', metadata={'source': 'data\\\\pdf\\\\Skywalk_Chili_5_XXS.pdf', 'page': 0}),\n",
       " Document(page_content='Flight test report: EN 926-2:2013 & NfL 2-565-20\\nManufacturer Skywalk GmbH & Co. KG Certification number PG_1819.2021\\nAddress Windeckstr. 4\\n83250 Marquartstein\\nGermanyFlight test 24.03.2021\\nGlider model Chili 5 S Classification B\\nSerial number CH10 002 Representative None\\nTrimmer no Place of test Villeneuve\\nFolding lines used no \\nTest pilot Claude Thurnheer Alain Zoller\\nHarness Advance - Success 4 M Advance - Success 4 M\\nHarness to risers distance (cm) 44 44\\nDistance between risers (cm) 44 46\\nTotal weight in flight (kg) 85 105\\nTest Report generated automatically by AIR TURQUOISE SA, valid without signature Rev 06 | 19.02.2021   //   ISO | 91.22  //  Page 1 of 31. Inflation/Take-off A \\nRising behaviour Smooth, easy and constant rising ASmooth, easy and constant rising A\\nSpecial take off technique required No ANo A\\n2. Landing A \\nSpecial landing technique required No ANo A\\n3. Speed in straight flight A \\nTrim speed more than 30 km/h Yes AYes A\\nSpeed range using the controls larger than 10 km/h Yes AYes A\\nMinimum speed Less than 25 km/h ALess than 25 km/h A\\n4. Control movement A \\nMax. weight in flight up to 80 kg \\nSymmetric control pressure / travel not available 0not available 0\\nMax. weight in flight 80 kg to 100 kg \\nSymmetric control pressure / travel Increasing / greater than 60 cm Anot available 0\\nMax. weight in flight greater than 100 kg \\nSymmetric control pressure / travel not available 0Increasing / greater than 65 cm A\\n5. Pitch stability exiting accelerated flight A \\nDive forward angle on exit Dive forward less than 30° ADive forward less than 30° A\\nCollapse occurs No ANo A\\n6. Pitch stability operating controls during accelerated\\nflightA \\nCollapse occurs No ANo A\\n7. Roll stability and damping A \\nOscillations Reducing AReducing A\\n8. Stability in gentle spirals A \\nTendency to return to straight flight Spontaneous exit ASpontaneous exit A\\n9. Behaviour exiting a fully developed spiral dive A \\nInitial response of glider (first 180°) Immediate reduction of rate of turn AImmediate reduction of rate of turn A\\nTendency to return to straight flight Spontaneous exit (g force\\ndecreasing, rate of turn decreasing)ASpontaneous exit (g force\\ndecreasing, rate of turn decreasing)A\\nTurn angle to recover normal flight Less than 720°, spontaneous\\nrecoveryALess than 720°, spontaneous\\nrecoveryA\\n10. Symmetric front collapse A \\nApproximately 30 % chord \\nEntry Rocking back less than 45° ARocking back less than 45° A\\nRecovery Spontaneous in less than 3 s ASpontaneous in less than 3 s A', metadata={'source': 'data\\\\pdf\\\\Skywalk_Chili_5_S.pdf', 'page': 0}),\n",
       " Document(page_content='Flight test report: EN 926-2:2013 & NfL 2-565-20\\nManufacturer Skywalk GmbH & Co. KG Certification number PG_1818.2021\\nAddress Windeckstr. 4\\n83250 Marquartstein\\nGermanyFlight test 24.03.2021\\nGlider model Chili 5 XS Classification B\\nSerial number CH10 001 Representative None\\nTrimmer no Place of test Villeneuve\\nFolding lines used no \\nTest pilot Philippe Dupont Claude Thurnheer\\nHarness Advance - Success 4 M Advance - Success 4 M\\nHarness to risers distance (cm) 44 44\\nDistance between risers (cm) 40 44\\nTotal weight in flight (kg) 70 95\\nTest Report generated automatically by AIR TURQUOISE SA, valid without signature Rev 06 | 19.02.2021   //   ISO | 91.22  //  Page 1 of 31. Inflation/Take-off A \\nRising behaviour Smooth, easy and constant rising ASmooth, easy and constant rising A\\nSpecial take off technique required No ANo A\\n2. Landing A \\nSpecial landing technique required No ANo A\\n3. Speed in straight flight A \\nTrim speed more than 30 km/h Yes AYes A\\nSpeed range using the controls larger than 10 km/h Yes AYes A\\nMinimum speed Less than 25 km/h ALess than 25 km/h A\\n4. Control movement A \\nMax. weight in flight up to 80 kg \\nSymmetric control pressure / travel Increasing / greater than 55 cm Anot available 0\\nMax. weight in flight 80 kg to 100 kg \\nSymmetric control pressure / travel not available 0Increasing / greater than 60 cm A\\nMax. weight in flight greater than 100 kg \\nSymmetric control pressure / travel not available 0not available 0\\n5. Pitch stability exiting accelerated flight A \\nDive forward angle on exit Dive forward less than 30° ADive forward less than 30° A\\nCollapse occurs No ANo A\\n6. Pitch stability operating controls during accelerated\\nflightA \\nCollapse occurs No ANo A\\n7. Roll stability and damping A \\nOscillations Reducing AReducing A\\n8. Stability in gentle spirals A \\nTendency to return to straight flight Spontaneous exit ASpontaneous exit A\\n9. Behaviour exiting a fully developed spiral dive A \\nInitial response of glider (first 180°) Immediate reduction of rate of turn AImmediate reduction of rate of turn A\\nTendency to return to straight flight Spontaneous exit (g force\\ndecreasing, rate of turn decreasing)ASpontaneous exit (g force\\ndecreasing, rate of turn decreasing)A\\nTurn angle to recover normal flight Less than 720°, spontaneous\\nrecoveryALess than 720°, spontaneous\\nrecoveryA\\n10. Symmetric front collapse B \\nApproximately 30 % chord \\nEntry Rocking back less than 45° ARocking back less than 45° A\\nRecovery Spontaneous in less than 3 s ASpontaneous in less than 3 s A', metadata={'source': 'data\\\\pdf\\\\Skywalk_Chili_5_XS.pdf', 'page': 0}),\n",
       " Document(page_content='Flight test report: EN 926-2:2013 & NfL 2-565-20\\nManufacturer Skywalk GmbH & Co. KG Certification number PG_1821.2021\\nAddress Windeckstr. 4\\n83250 Marquartstein\\nGermanyFlight test 09.06.2021\\nGlider model Chili 5 L Classification B\\nSerial number CH10 005 Representative None\\nTrimmer no Place of test Villeneuve\\nFolding lines used no \\nTest pilot Alain Zoller Anselm Rauh\\nHarness Advance - Success 4 L Supair - Evo XC 3 L\\nHarness to risers distance (cm) 44 44\\nDistance between risers (cm) 46 48\\nTotal weight in flight (kg) 105 135\\nTest Report generated automatically by AIR TURQUOISE SA, valid without signature Rev 06 | 19.02.2021   //   ISO | 91.22  //  Page 1 of 31. Inflation/Take-off A \\nRising behaviour Smooth, easy and constant rising ASmooth, easy and constant rising A\\nSpecial take off technique required No ANo A\\n2. Landing A \\nSpecial landing technique required No ANo A\\n3. Speed in straight flight A \\nTrim speed more than 30 km/h Yes AYes A\\nSpeed range using the controls larger than 10 km/h Yes AYes A\\nMinimum speed Less than 25 km/h ALess than 25 km/h A\\n4. Control movement A \\nMax. weight in flight up to 80 kg \\nSymmetric control pressure / travel not available 0not available 0\\nMax. weight in flight 80 kg to 100 kg \\nSymmetric control pressure / travel not available 0not available 0\\nMax. weight in flight greater than 100 kg \\nSymmetric control pressure / travel Increasing / greater than 65 cm AIncreasing / greater than 65 cm A\\n5. Pitch stability exiting accelerated flight A \\nDive forward angle on exit Dive forward less than 30° ADive forward less than 30° A\\nCollapse occurs No ANo A\\n6. Pitch stability operating controls during accelerated\\nflightA \\nCollapse occurs No ANo A\\n7. Roll stability and damping A \\nOscillations Reducing AReducing A\\n8. Stability in gentle spirals A \\nTendency to return to straight flight Spontaneous exit ASpontaneous exit A\\n9. Behaviour exiting a fully developed spiral dive A \\nInitial response of glider (first 180°) Immediate reduction of rate of turn AImmediate reduction of rate of turn A\\nTendency to return to straight flight Spontaneous exit (g force\\ndecreasing, rate of turn decreasing)ASpontaneous exit (g force\\ndecreasing, rate of turn decreasing)A\\nTurn angle to recover normal flight Less than 720°, spontaneous\\nrecoveryALess than 720°, spontaneous\\nrecoveryA\\n10. Symmetric front collapse B \\nApproximately 30 % chord \\nEntry Rocking back less than 45° ARocking back less than 45° A\\nRecovery Spontaneous in less than 3 s ASpontaneous in less than 3 s A', metadata={'source': 'data\\\\pdf\\\\Skywalk_Chili_5_L.pdf', 'page': 0}),\n",
       " Document(page_content='Flight test report: EN 926-2:2013 & LTF 91/09\\nManufacturer Skywalk GmbH & Co. KG Certification number PG_1820.2021\\nAddress Windeckstr. 4\\n83250 Marquartstein\\nGermanyFlight test 24.03.2021\\nGlider model Chili 5 M Classification B\\nSerial number CH10 003 Representative None\\nTrimmer no Place of test Villeneuve\\nFolding lines used no \\nTest pilot Claude Thurnheer Alain Zoller\\nHarness Advance - Success 4 M Advance - Success 4 M\\nHarness to risers distance (cm) 44 44\\nDistance between risers (cm) 44 48\\nTotal weight in flight (kg) 95 115\\nTest Report generated automatically by AIR TURQUOISE SA, valid without signature Rev 06 | 19.02.2021   //   ISO | 91.22  //  Page 1 of 31. Inflation/Take-off A \\nRising behaviour Smooth, easy and constant rising ASmooth, easy and constant rising A\\nSpecial take off technique required No ANo A\\n2. Landing A \\nSpecial landing technique required No ANo A\\n3. Speed in straight flight A \\nTrim speed more than 30 km/h Yes AYes A\\nSpeed range using the controls larger than 10 km/h Yes AYes A\\nMinimum speed Less than 25 km/h ALess than 25 km/h A\\n4. Control movement A \\nMax. weight in flight up to 80 kg \\nSymmetric control pressure / travel not available 0not available 0\\nMax. weight in flight 80 kg to 100 kg \\nSymmetric control pressure / travel Increasing / greater than 60 cm Anot available 0\\nMax. weight in flight greater than 100 kg \\nSymmetric control pressure / travel not available 0Increasing / greater than 65 cm A\\n5. Pitch stability exiting accelerated flight A \\nDive forward angle on exit Dive forward less than 30° ADive forward less than 30° A\\nCollapse occurs No ANo A\\n6. Pitch stability operating controls during accelerated\\nflightA \\nCollapse occurs No ANo A\\n7. Roll stability and damping A \\nOscillations Reducing AReducing A\\n8. Stability in gentle spirals A \\nTendency to return to straight flight Spontaneous exit ASpontaneous exit A\\n9. Behaviour exiting a fully developed spiral dive A \\nInitial response of glider (first 180°) Immediate reduction of rate of turn AImmediate reduction of rate of turn A\\nTendency to return to straight flight Spontaneous exit (g force\\ndecreasing, rate of turn decreasing)ASpontaneous exit (g force\\ndecreasing, rate of turn decreasing)A\\nTurn angle to recover normal flight Less than 720°, spontaneous\\nrecoveryALess than 720°, spontaneous\\nrecoveryA\\n10. Symmetric front collapse A \\nApproximately 30 % chord \\nEntry Rocking back less than 45° ARocking back less than 45° A\\nRecovery Spontaneous in less than 3 s ASpontaneous in less than 3 s A', metadata={'source': 'data\\\\pdf\\\\Skywalk_Chili_5_M.pdf', 'page': 0})]"
      ]
     },
     "execution_count": 32,
     "metadata": {},
     "output_type": "execute_result"
    }
   ],
   "source": [
    "db2 = FAISS.load_local(\"data/faiss_index\", hf)\n",
    "\n",
    "query = \"skywalk chili m\"\n",
    "docs = db2.similarity_search(query,k=5)\n",
    "\n",
    "docs"
   ]
  },
  {
   "cell_type": "code",
   "execution_count": null,
   "id": "a611ab27",
   "metadata": {},
   "outputs": [],
   "source": []
  }
 ],
 "metadata": {
  "kernelspec": {
   "display_name": "Python 3 (ipykernel)",
   "language": "python",
   "name": "python3"
  },
  "language_info": {
   "codemirror_mode": {
    "name": "ipython",
    "version": 3
   },
   "file_extension": ".py",
   "mimetype": "text/x-python",
   "name": "python",
   "nbconvert_exporter": "python",
   "pygments_lexer": "ipython3",
   "version": "3.8.12"
  }
 },
 "nbformat": 4,
 "nbformat_minor": 5
}
